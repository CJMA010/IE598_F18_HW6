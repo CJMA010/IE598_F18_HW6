{
 "cells": [
  {
   "cell_type": "code",
   "execution_count": 1,
   "metadata": {},
   "outputs": [],
   "source": [
    "from sklearn import datasets\n",
    "from sklearn.model_selection import train_test_split\n",
    "from sklearn.tree import DecisionTreeClassifier\n",
    "from sklearn import metrics\n",
    "import numpy as np\n",
    "from sklearn.model_selection import KFold\n",
    "from sklearn.model_selection import cross_val_score"
   ]
  },
  {
   "cell_type": "code",
   "execution_count": 2,
   "metadata": {},
   "outputs": [],
   "source": [
    "iris = datasets.load_iris()\n",
    "X = iris.data[:, [2, 3]]\n",
    "y = iris.target\n",
    "insample_score = []\n",
    "outofsample_score = []"
   ]
  },
  {
   "cell_type": "code",
   "execution_count": 3,
   "metadata": {},
   "outputs": [
    {
     "name": "stdout",
     "output_type": "stream",
     "text": [
      "random state: 1, in sample: 0.985, out of sample: 0.933\n",
      "random state: 1, in sample: 0.985, out of sample: 1.000\n",
      "random state: 1, in sample: 0.985, out of sample: 0.867\n",
      "random state: 1, in sample: 0.985, out of sample: 1.000\n",
      "random state: 1, in sample: 0.985, out of sample: 1.000\n",
      "random state: 1, in sample: 0.985, out of sample: 0.867\n",
      "random state: 1, in sample: 0.985, out of sample: 0.933\n",
      "random state: 1, in sample: 0.985, out of sample: 1.000\n",
      "random state: 1, in sample: 0.985, out of sample: 0.933\n",
      "random state: 1, in sample: 0.985, out of sample: 1.000\n",
      "in sample mean: 0.9851851851851853 std dev: 1.1102230246251565e-16\n",
      "out of sample mean: 0.9533333333333334 std dev: 0.052068331172711015\n"
     ]
    }
   ],
   "source": [
    "for i in range(1,11):\n",
    "    X_train, X_test, y_train, y_test = train_test_split(X, y, test_size=0.1, random_state=i, stratify=y)\n",
    "    tree = DecisionTreeClassifier(criterion='gini',\n",
    "                                  max_depth=4,\n",
    "                                  random_state=1)\n",
    "    tree.fit(X_train, y_train)\n",
    "    y_test_pred = tree.predict(X_test)\n",
    "    y_train_pred = tree.predict(X_train)    \n",
    "    score1 = metrics.accuracy_score(y_test, y_test_pred)\n",
    "    score2 = metrics.accuracy_score(y_train, y_train_pred)\n",
    "    insample_score.append(score2)    \n",
    "    outofsample_score.append(score1)\n",
    "    #print(\"random_state\",i,\":\",\"in sample\",score1,\"out of sample\",score2)\n",
    "    print('random state: %d, in sample: %.3f, out of sample: %.3f' % (1,score2,score1))\n",
    "    \n",
    "print(\"in sample mean:\",np.mean(insample_score),\"std dev:\",np.std(insample_score))\n",
    "print(\"out of sample mean:\",np.mean(outofsample_score),\"std dev:\",np.std(outofsample_score))"
   ]
  },
  {
   "cell_type": "code",
   "execution_count": 4,
   "metadata": {},
   "outputs": [],
   "source": [
    "X_train, X_test, y_train, y_test = train_test_split(X, y, test_size=0.1, random_state=1)\n",
    "kfold = KFold(n_splits=10,random_state=1).split(X_train, y_train)"
   ]
  },
  {
   "cell_type": "code",
   "execution_count": 5,
   "metadata": {},
   "outputs": [
    {
     "name": "stdout",
     "output_type": "stream",
     "text": [
      "CV accuracy scores: [0.93333333 0.93333333 0.93333333 1.         0.85714286 1.\n",
      " 0.91666667 1.         0.91666667 0.91666667]\n",
      "CV accuracy: 0.941 +/- 0.044\n"
     ]
    }
   ],
   "source": [
    "kfold = KFold(n_splits=10,random_state=1).split(X_train, y_train)\n",
    "\n",
    "tree = DecisionTreeClassifier(criterion='gini',\n",
    "                                  max_depth=4,\n",
    "                                  random_state=1)\n",
    "\n",
    "scores = cross_val_score(estimator=tree,\n",
    "                         X=X_train,\n",
    "                         y=y_train,\n",
    "                         cv=10,\n",
    "                         n_jobs=1)\n",
    "print('CV accuracy scores: %s' % scores)\n",
    "print('CV accuracy: %.3f +/- %.3f' % (np.mean(scores), np.std(scores)))\n",
    "    \n",
    "#print('\\nCV accuracy: %.3f +/- %.3f' % (np.mean(scores), np.std(scores)))"
   ]
  },
  {
   "cell_type": "code",
   "execution_count": 6,
   "metadata": {},
   "outputs": [
    {
     "name": "stdout",
     "output_type": "stream",
     "text": [
      "My name is {Changjie Ma}\n",
      "My NetID is: {cma17}\n",
      "I hereby certify that I have read the University policy on Academic Integrity and that I am not in violation.\n"
     ]
    }
   ],
   "source": [
    "print(\"My name is {Changjie Ma}\")\n",
    "print(\"My NetID is: {cma17}\")\n",
    "print(\"I hereby certify that I have read the University policy on Academic Integrity and that I am not in violation.\")"
   ]
  }
 ],
 "metadata": {
  "kernelspec": {
   "display_name": "Python 3",
   "language": "python",
   "name": "python3"
  },
  "language_info": {
   "codemirror_mode": {
    "name": "ipython",
    "version": 3
   },
   "file_extension": ".py",
   "mimetype": "text/x-python",
   "name": "python",
   "nbconvert_exporter": "python",
   "pygments_lexer": "ipython3",
   "version": "3.6.5"
  }
 },
 "nbformat": 4,
 "nbformat_minor": 2
}
